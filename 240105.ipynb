{
  "nbformat": 4,
  "nbformat_minor": 0,
  "metadata": {
    "colab": {
      "provenance": [],
      "authorship_tag": "ABX9TyN161ANHPX2kFxi0oDGaR7e",
      "include_colab_link": true
    },
    "kernelspec": {
      "name": "python3",
      "display_name": "Python 3"
    },
    "language_info": {
      "name": "python"
    }
  },
  "cells": [
    {
      "cell_type": "markdown",
      "metadata": {
        "id": "view-in-github",
        "colab_type": "text"
      },
      "source": [
        "<a href=\"https://colab.research.google.com/github/lxxhxng/aipython/blob/main/240105.ipynb\" target=\"_parent\"><img src=\"https://colab.research.google.com/assets/colab-badge.svg\" alt=\"Open In Colab\"/></a>"
      ]
    },
    {
      "cell_type": "markdown",
      "source": [
        "# Split and Join"
      ],
      "metadata": {
        "id": "rM11d8APXsYz"
      }
    },
    {
      "cell_type": "code",
      "execution_count": 2,
      "metadata": {
        "colab": {
          "base_uri": "https://localhost:8080/"
        },
        "id": "hbgMuuonMIK0",
        "outputId": "154b13c6-7269-470b-874e-c401e2e7b7ad"
      },
      "outputs": [
        {
          "output_type": "stream",
          "name": "stdout",
          "text": [
            "Name: John Age: 30 Occupation: Engineer\n",
            "Name: Alice Age: 25 Occupation: Designer\n",
            "Name: Bob Age: 22 Occupation: Artist\n"
          ]
        }
      ],
      "source": [
        "data = \"John,30,Engineer\\nAlice,25,Designer\\nBob,22,Artist\"\n",
        "lines = data.split(\"\\n\")\n",
        "for line in lines:\n",
        "    fields = line.split(\",\")\n",
        "    print(\"Name:\", fields[0], \"Age:\", fields[1], \"Occupation:\", fields[2])"
      ]
    },
    {
      "cell_type": "code",
      "source": [
        "a = \"가나다,라마바,사\"\n",
        "ali = a.split(\",\") # 문자열.split(\"구분자\")\n",
        "print(ali)"
      ],
      "metadata": {
        "colab": {
          "base_uri": "https://localhost:8080/"
        },
        "id": "E6gvGFcjOtcS",
        "outputId": "5fce139e-e730-41b4-9102-5b2216be2e05"
      },
      "execution_count": 26,
      "outputs": [
        {
          "output_type": "stream",
          "name": "stdout",
          "text": [
            "['가나다', '라마바', '사']\n"
          ]
        }
      ]
    },
    {
      "cell_type": "code",
      "source": [
        "words = ['Hello', 'world', 'this', 'is', 'a', 'test']\n",
        "sentence = \" \".join(words) # \"구분자\".join(리스트) / split(' ') == split() 공백은 그냥 () 만해도 됨\n",
        "print(sentence)"
      ],
      "metadata": {
        "colab": {
          "base_uri": "https://localhost:8080/"
        },
        "id": "qERhN_vQPGof",
        "outputId": "e1ebe446-6ccc-46ad-c8fb-0ee599887ca3"
      },
      "execution_count": 28,
      "outputs": [
        {
          "output_type": "stream",
          "name": "stdout",
          "text": [
            "Hello world this is a test\n"
          ]
        }
      ]
    },
    {
      "cell_type": "code",
      "source": [
        "Input = 'Geeks for Geeks'\n",
        "Output = Input.split(' ')\n",
        "print(Output)"
      ],
      "metadata": {
        "colab": {
          "base_uri": "https://localhost:8080/"
        },
        "id": "L5jqOpxDPydm",
        "outputId": "ff322747-1c11-44c8-bd62-acec144ee918"
      },
      "execution_count": 29,
      "outputs": [
        {
          "output_type": "stream",
          "name": "stdout",
          "text": [
            "['Geeks', 'for', 'Geeks']\n"
          ]
        }
      ]
    },
    {
      "cell_type": "code",
      "source": [
        "Input = ['Geeks', 'for', 'Geeks']\n",
        "Output = '-'.join(Input)\n",
        "print(Output)"
      ],
      "metadata": {
        "colab": {
          "base_uri": "https://localhost:8080/"
        },
        "id": "yFRbEBMpP8rz",
        "outputId": "605ef1c2-c0a5-463a-d687-fa3696289314"
      },
      "execution_count": 30,
      "outputs": [
        {
          "output_type": "stream",
          "name": "stdout",
          "text": [
            "Geeks-for-Geeks\n"
          ]
        }
      ]
    },
    {
      "cell_type": "markdown",
      "source": [
        "# List Comprehension"
      ],
      "metadata": {
        "id": "CCVJtOdGX5Dd"
      }
    },
    {
      "cell_type": "code",
      "source": [
        "squares = [x**2 for x in range(5)]\n",
        "print(squares)"
      ],
      "metadata": {
        "colab": {
          "base_uri": "https://localhost:8080/"
        },
        "id": "EPoj8SHLQSwv",
        "outputId": "7f9fec8b-74f5-451e-c7b7-652553921343"
      },
      "execution_count": 31,
      "outputs": [
        {
          "output_type": "stream",
          "name": "stdout",
          "text": [
            "[0, 1, 4, 9, 16]\n"
          ]
        }
      ]
    },
    {
      "cell_type": "code",
      "source": [
        "# new_list = [expression for item in iterable if condition]\n",
        "# new_list: 리스트 변수 이름\n",
        "# expression: iterable(반복가능한) 객체의 원소들을 해당하는 표현식으로 바꿔서 리스트에 저장\n",
        "# for item in iterable: iterable(반복가능한) 객체의 원소들을 하나씩 차례로 반환하기위한 for문\n",
        "# if condition: condition 에 해당하는 조건만 만족할시에 적용하기 위한 if문"
      ],
      "metadata": {
        "id": "l7wi-u2yR6Ua"
      },
      "execution_count": null,
      "outputs": []
    },
    {
      "cell_type": "code",
      "source": [
        "even = [x**2 for x in range(5) if x % 2 == 0] # 0~4의 5개 정수에서 짝수만 제곱해서 리스트 만들기"
      ],
      "metadata": {
        "id": "WOvR_4rHSxym"
      },
      "execution_count": 35,
      "outputs": []
    },
    {
      "cell_type": "code",
      "source": [
        "even"
      ],
      "metadata": {
        "colab": {
          "base_uri": "https://localhost:8080/"
        },
        "id": "p3VEw3LkTA4R",
        "outputId": "c3777531-aed7-4d81-99df-d2e76d875d4e"
      },
      "execution_count": 36,
      "outputs": [
        {
          "output_type": "execute_result",
          "data": {
            "text/plain": [
              "[0, 4, 16]"
            ]
          },
          "metadata": {},
          "execution_count": 36
        }
      ]
    },
    {
      "cell_type": "code",
      "source": [
        "nums = [x**2 for x in range(1, 21) if x % 3 == 0]"
      ],
      "metadata": {
        "id": "huZBM6F0TCLU"
      },
      "execution_count": 37,
      "outputs": []
    },
    {
      "cell_type": "code",
      "source": [
        "nums"
      ],
      "metadata": {
        "colab": {
          "base_uri": "https://localhost:8080/"
        },
        "id": "3ZYya-RRTd6W",
        "outputId": "d9e8ff9a-2d1a-41c4-b51d-af924ea7354d"
      },
      "execution_count": 38,
      "outputs": [
        {
          "output_type": "execute_result",
          "data": {
            "text/plain": [
              "[9, 36, 81, 144, 225, 324]"
            ]
          },
          "metadata": {},
          "execution_count": 38
        }
      ]
    },
    {
      "cell_type": "code",
      "source": [
        "Input = [1,2,3,4,5]\n",
        "Output = [x**2 for x in Input]\n",
        "Output"
      ],
      "metadata": {
        "colab": {
          "base_uri": "https://localhost:8080/"
        },
        "id": "PCQtme9mTela",
        "outputId": "9c17bf4d-9da2-4e4b-acf7-7a7b70258785"
      },
      "execution_count": 44,
      "outputs": [
        {
          "output_type": "execute_result",
          "data": {
            "text/plain": [
              "[1, 4, 9, 16, 25]"
            ]
          },
          "metadata": {},
          "execution_count": 44
        }
      ]
    },
    {
      "cell_type": "code",
      "source": [
        "Input = [\"Seoul\", \"New York\", \"London\", \"Shanghai\", \"Paris\", \"Tokyo\"]\n",
        "Output = [x for x in Input if x[0] == 'S'] # 첫 문자가 S인 경우\n",
        "Output"
      ],
      "metadata": {
        "colab": {
          "base_uri": "https://localhost:8080/"
        },
        "id": "_QMvEhVGUCtY",
        "outputId": "4170cb67-868d-4e2f-ef39-802ccca83c8f"
      },
      "execution_count": 45,
      "outputs": [
        {
          "output_type": "execute_result",
          "data": {
            "text/plain": [
              "['Seoul', 'Shanghai']"
            ]
          },
          "metadata": {},
          "execution_count": 45
        }
      ]
    },
    {
      "cell_type": "code",
      "source": [
        "Input = [\"Seoul\", \"New York\", \"London\", \"Shanghai\", \"Paris\", \"Tokyo\"]\n",
        "Output = [x for x in Input if 'S' in x] # 문자열에 S가 포함 돼있는 경우\n",
        "Output"
      ],
      "metadata": {
        "colab": {
          "base_uri": "https://localhost:8080/"
        },
        "id": "cFzWny6JUOlh",
        "outputId": "37e02d94-fec0-48e3-b0d5-614b4aa032bf"
      },
      "execution_count": 46,
      "outputs": [
        {
          "output_type": "execute_result",
          "data": {
            "text/plain": [
              "['Seoul', 'Shanghai']"
            ]
          },
          "metadata": {},
          "execution_count": 46
        }
      ]
    },
    {
      "cell_type": "markdown",
      "source": [
        "# Enumerate"
      ],
      "metadata": {
        "id": "pa33oB-qYEay"
      }
    },
    {
      "cell_type": "code",
      "source": [
        "# strat = 0, default\n",
        "fruits = ['apple', 'banana', 'cherry']\n",
        "for index, fruit in enumerate(fruits):\n",
        "    print(index, fruit)\n",
        "\n",
        "print('---------------------')\n",
        "\n",
        "# start = 1\n",
        "fruits = ['apple', 'banana', 'cherry']\n",
        "for index, fruit in enumerate(fruits, start = 1):\n",
        "    print(index, fruit)"
      ],
      "metadata": {
        "colab": {
          "base_uri": "https://localhost:8080/"
        },
        "id": "v5i9rdhvU-EC",
        "outputId": "b17ffe88-7108-4ca0-9329-dfc55b19def2"
      },
      "execution_count": 67,
      "outputs": [
        {
          "output_type": "stream",
          "name": "stdout",
          "text": [
            "0 apple\n",
            "1 banana\n",
            "2 cherry\n",
            "---------------------\n",
            "1 apple\n",
            "2 banana\n",
            "3 cherry\n"
          ]
        }
      ]
    },
    {
      "cell_type": "code",
      "source": [
        "# enumerate\n",
        "Input = ['a','b','c']\n",
        "for i, a in enumerate(Input):\n",
        "    print(f\"fruit{i} name is {a}\")\n",
        "\n",
        "print(\"-----------------\")\n",
        "\n",
        "# range를 사용한 코드\n",
        "Input = ['a','b','c']\n",
        "for i in range(3):\n",
        "    print(f\"fruit{i} name is {Input[i]}\")"
      ],
      "metadata": {
        "colab": {
          "base_uri": "https://localhost:8080/"
        },
        "id": "IgRQKdfHWBz9",
        "outputId": "34e7e748-21d3-490b-ae5d-19e2d3a9d6ef"
      },
      "execution_count": 66,
      "outputs": [
        {
          "output_type": "stream",
          "name": "stdout",
          "text": [
            "fruit0 name is a\n",
            "fruit1 name is b\n",
            "fruit2 name is c\n",
            "-----------------\n",
            "fruit0 name is a\n",
            "fruit1 name is b\n",
            "fruit2 name is c\n"
          ]
        }
      ]
    },
    {
      "cell_type": "markdown",
      "source": [
        "# Zip"
      ],
      "metadata": {
        "id": "JNsqsxvtYG1s"
      }
    },
    {
      "cell_type": "code",
      "source": [
        "names = ['John', 'Jane', 'Doe']\n",
        "ages = [25, 30, 35]\n",
        "for name, age in zip(names, ages):\n",
        "    print(f\"{name} is {age} years old.\")"
      ],
      "metadata": {
        "colab": {
          "base_uri": "https://localhost:8080/"
        },
        "id": "IvH27kbGXAjJ",
        "outputId": "45a04a84-c0f1-4748-a575-32a56f381bbe"
      },
      "execution_count": 72,
      "outputs": [
        {
          "output_type": "stream",
          "name": "stdout",
          "text": [
            "John is 25 years old.\n",
            "Jane is 30 years old.\n",
            "Doe is 35 years old.\n"
          ]
        }
      ]
    },
    {
      "cell_type": "code",
      "source": [
        "keys = ['a', 'b', 'c']\n",
        "values = [1, 2, 3]\n",
        "\n",
        "dictionary = dict(zip(keys, values))\n",
        "print(dictionary)"
      ],
      "metadata": {
        "colab": {
          "base_uri": "https://localhost:8080/"
        },
        "id": "QJzGK6zPYoIh",
        "outputId": "fbcdcfe0-cc34-4e08-dd8d-5fa9c6c78d10"
      },
      "execution_count": 80,
      "outputs": [
        {
          "output_type": "stream",
          "name": "stdout",
          "text": [
            "{'a': 1, 'b': 2, 'c': 3}\n"
          ]
        }
      ]
    },
    {
      "cell_type": "code",
      "source": [
        "list1 = [1, 2, 3]\n",
        "list2 = [4, 5, 6]\n",
        "list3 = [7, 8, 9]\n",
        "\n",
        "sum_result = [sum(x) for x in zip(list1, list2, list3)]\n",
        "\n",
        "print(sum_result)"
      ],
      "metadata": {
        "colab": {
          "base_uri": "https://localhost:8080/"
        },
        "id": "476S3FHuZ2bc",
        "outputId": "e073cbe5-1ae4-4597-93ca-7e770c929a39"
      },
      "execution_count": 85,
      "outputs": [
        {
          "output_type": "stream",
          "name": "stdout",
          "text": [
            "[12, 15, 18]\n"
          ]
        }
      ]
    },
    {
      "cell_type": "code",
      "source": [
        "# zip\n",
        "name = [ \"M\", \"N\", \"S\", \"A\" ]\n",
        "roll_no = [ 4, 1, 3, 2 ]\n",
        "\n",
        "result_set = {(n, r) for n, r in zip(name, roll_no)}\n",
        "result_set"
      ],
      "metadata": {
        "colab": {
          "base_uri": "https://localhost:8080/"
        },
        "id": "q_hvW4Y7abNM",
        "outputId": "9609d9a8-617b-40f9-dc6a-131c6f8e75f3"
      },
      "execution_count": 92,
      "outputs": [
        {
          "output_type": "execute_result",
          "data": {
            "text/plain": [
              "{('A', 2), ('M', 4), ('N', 1), ('S', 3)}"
            ]
          },
          "metadata": {},
          "execution_count": 92
        }
      ]
    },
    {
      "cell_type": "code",
      "source": [
        "# zip and enumerate\n",
        "names = ['M', 'R', 'C']\n",
        "ages = [24, 50, 18]\n",
        "\n",
        "for index, (name, age) in enumerate(zip(names, ages)):\n",
        "    print(index, name, age)"
      ],
      "metadata": {
        "colab": {
          "base_uri": "https://localhost:8080/"
        },
        "id": "NMfW2sTXcMLj",
        "outputId": "1d10cf15-c105-4ec2-8767-eaba7ff08020"
      },
      "execution_count": 88,
      "outputs": [
        {
          "output_type": "stream",
          "name": "stdout",
          "text": [
            "0 M 24\n",
            "1 R 50\n",
            "2 C 18\n"
          ]
        }
      ]
    },
    {
      "cell_type": "markdown",
      "source": [
        "# Lambda and Map"
      ],
      "metadata": {
        "id": "6Kh0x5vHdiJo"
      }
    },
    {
      "cell_type": "code",
      "source": [
        "double = lambda x: x * 2\n",
        "print(double(5))"
      ],
      "metadata": {
        "colab": {
          "base_uri": "https://localhost:8080/"
        },
        "id": "Ot8BJB8pcNSL",
        "outputId": "112f307e-6b68-426a-e100-721d8f7a3481"
      },
      "execution_count": 93,
      "outputs": [
        {
          "output_type": "stream",
          "name": "stdout",
          "text": [
            "10\n"
          ]
        }
      ]
    },
    {
      "cell_type": "code",
      "source": [
        "# def 함수정의\n",
        "def add1(x, y):\n",
        "    return x+y\n",
        "print(add1(1,2))\n",
        "\n",
        "print('---------------')\n",
        "\n",
        "# lambda 익명함수\n",
        "add2 = lambda x, y: x+y\n",
        "print(add2(1,2))"
      ],
      "metadata": {
        "colab": {
          "base_uri": "https://localhost:8080/"
        },
        "id": "nUjwWJaIeHYJ",
        "outputId": "ed188937-e68d-427f-fbdc-2f7048a9e81d"
      },
      "execution_count": 101,
      "outputs": [
        {
          "output_type": "stream",
          "name": "stdout",
          "text": [
            "3\n",
            "---------------\n",
            "3\n"
          ]
        }
      ]
    },
    {
      "cell_type": "code",
      "source": [
        "numbers = [1, 2, 3, 4]\n",
        "squared = list(map(lambda x: x*2, numbers))\n",
        "print(squared)"
      ],
      "metadata": {
        "colab": {
          "base_uri": "https://localhost:8080/"
        },
        "id": "WvOeQGgze79c",
        "outputId": "39e56762-4ee6-452b-a84e-626c15fab695"
      },
      "execution_count": 104,
      "outputs": [
        {
          "output_type": "stream",
          "name": "stdout",
          "text": [
            "[2, 4, 6, 8]\n"
          ]
        }
      ]
    },
    {
      "cell_type": "code",
      "source": [
        "# lambda\n",
        "data_list =['but','i','wont','hesitate','no','more','no','more','it','cannot','wait','im','yours']\n",
        "\n",
        "# Output : ['i', 'im', 'it', 'no', 'but', 'more', 'wait', 'wont', 'yours', 'cannot', 'hesitate']"
      ],
      "metadata": {
        "id": "NIl6hf46fMr3"
      },
      "execution_count": 142,
      "outputs": []
    },
    {
      "cell_type": "code",
      "source": [
        "Output = sorted(data_list, key=lambda x: len(x))\n",
        "\n",
        "print(Output)"
      ],
      "metadata": {
        "colab": {
          "base_uri": "https://localhost:8080/"
        },
        "id": "5PSf5dRBgRD4",
        "outputId": "e3c1dda8-1253-463c-e8b4-d3bc1483dca1"
      },
      "execution_count": 143,
      "outputs": [
        {
          "output_type": "stream",
          "name": "stdout",
          "text": [
            "['i', 'no', 'no', 'it', 'im', 'but', 'wont', 'more', 'more', 'wait', 'yours', 'cannot', 'hesitate']\n"
          ]
        }
      ]
    },
    {
      "cell_type": "code",
      "source": [
        "# map & lambda\n",
        "num1 = [4, 5, 6]\n",
        "num2 = [5, 6, 7]\n",
        "# Output : [9, 11, 13]"
      ],
      "metadata": {
        "id": "c36bJX23f_FX"
      },
      "execution_count": null,
      "outputs": []
    },
    {
      "cell_type": "code",
      "source": [
        "sum_result = [sum(x) for x in zip(list1, list2, list3)]\n",
        "\n",
        "print(sum_result)"
      ],
      "metadata": {
        "colab": {
          "base_uri": "https://localhost:8080/"
        },
        "id": "di2VJcWgk_jJ",
        "outputId": "f73a475c-29b7-4783-e476-6e2e05c06677"
      },
      "execution_count": 144,
      "outputs": [
        {
          "output_type": "stream",
          "name": "stdout",
          "text": [
            "[12, 15, 18]\n"
          ]
        }
      ]
    },
    {
      "cell_type": "code",
      "source": [],
      "metadata": {
        "id": "UCOes0bLk_q6"
      },
      "execution_count": null,
      "outputs": []
    }
  ]
}