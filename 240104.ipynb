{
  "nbformat": 4,
  "nbformat_minor": 0,
  "metadata": {
    "colab": {
      "provenance": [],
      "authorship_tag": "ABX9TyN0PWDcKsSOvodqaPSsIuqO",
      "include_colab_link": true
    },
    "kernelspec": {
      "name": "python3",
      "display_name": "Python 3"
    },
    "language_info": {
      "name": "python"
    }
  },
  "cells": [
    {
      "cell_type": "markdown",
      "metadata": {
        "id": "view-in-github",
        "colab_type": "text"
      },
      "source": [
        "<a href=\"https://colab.research.google.com/github/lxxhxng/aipython/blob/main/240104.ipynb\" target=\"_parent\"><img src=\"https://colab.research.google.com/assets/colab-badge.svg\" alt=\"Open In Colab\"/></a>"
      ]
    },
    {
      "cell_type": "code",
      "source": [
        "# 비어있는 score 리스트 변수를 사용하여 학생들의 점수를 입력받는다.\n",
        "# 모든 학생들의 합계, 총인 원수, 평균을 출력해 보자.\n",
        "# 만약 입력받은 점수가 숫자가 아닌 문자이면 입력을 종료한다\n",
        "# 아래 프로그램의 실행 결과를 참고하여 작성해 보자.\n",
        "\n",
        "score = [] # score = list()\n",
        "\n",
        "while True:\n",
        "    score_input = input('학생의 점수를 입력하세요.')\n",
        "    if score_input.isdigit():\n",
        "        score.append(int(score_input))\n",
        "    else:\n",
        "        break\n",
        "print('입력 데이터 출력 : ', score)\n",
        "print('합계 : ', sum(score))\n",
        "print('인원수 : ', len(score))\n",
        "print('평균 : ', sum(score)/len(score))"
      ],
      "metadata": {
        "colab": {
          "base_uri": "https://localhost:8080/"
        },
        "id": "ehFgftfpbvEt",
        "outputId": "7ab5b579-b497-4940-a82f-ede24e92b364"
      },
      "execution_count": 15,
      "outputs": [
        {
          "output_type": "stream",
          "name": "stdout",
          "text": [
            "학생의 점수를 입력하세요.90\n",
            "학생의 점수를 입력하세요.70\n",
            "학생의 점수를 입력하세요.30\n",
            "학생의 점수를 입력하세요.x\n",
            "입력 데이터 출력 :  [90, 70, 30]\n",
            "합계 :  190\n",
            "인원수 :  3\n",
            "평균 :  63.333333333333336\n"
          ]
        }
      ]
    },
    {
      "cell_type": "code",
      "source": [],
      "metadata": {
        "id": "zrZl-5Gcfc3Q"
      },
      "execution_count": null,
      "outputs": []
    }
  ]
}